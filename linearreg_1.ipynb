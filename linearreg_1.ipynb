{
 "cells": [
  {
   "cell_type": "code",
   "execution_count": 6,
   "id": "c45b1c59",
   "metadata": {},
   "outputs": [],
   "source": [
    "import numpy as np\n",
    "import pandas as pd\n",
    "import seaborn as sns\n",
    "import matplotlib.pyplot as plt\n"
   ]
  },
  {
   "cell_type": "code",
   "execution_count": 2,
   "id": "f20bb918",
   "metadata": {},
   "outputs": [],
   "source": [
    "ht=[[151],[174],[138],[186],[128],[136],[179],[163],[152],[131]]\n",
    "wt=[[63],[81],[56],[91],[47],[57],[76],[72],[62],[48]]"
   ]
  },
  {
   "cell_type": "code",
   "execution_count": 3,
   "id": "ccdd81dc",
   "metadata": {},
   "outputs": [
    {
     "data": {
      "text/plain": [
       "[[151], [174], [138], [186], [128], [136], [179], [163], [152], [131]]"
      ]
     },
     "metadata": {},
     "output_type": "display_data"
    },
    {
     "data": {
      "text/plain": [
       "[[63], [81], [56], [91], [47], [57], [76], [72], [62], [48]]"
      ]
     },
     "metadata": {},
     "output_type": "display_data"
    }
   ],
   "source": [
    "display(ht,wt)"
   ]
  },
  {
   "cell_type": "code",
   "execution_count": 4,
   "id": "172e5b5f",
   "metadata": {},
   "outputs": [],
   "source": [
    "x=ht\n",
    "y=wt"
   ]
  },
  {
   "cell_type": "code",
   "execution_count": 5,
   "id": "e7ed8930",
   "metadata": {},
   "outputs": [
    {
     "data": {
      "text/plain": [
       "[[151], [174], [138], [186], [128], [136], [179], [163], [152], [131]]"
      ]
     },
     "metadata": {},
     "output_type": "display_data"
    },
    {
     "data": {
      "text/plain": [
       "[[63], [81], [56], [91], [47], [57], [76], [72], [62], [48]]"
      ]
     },
     "metadata": {},
     "output_type": "display_data"
    }
   ],
   "source": [
    "display(x,y)"
   ]
  },
  {
   "cell_type": "code",
   "execution_count": 8,
   "id": "c02d2e77",
   "metadata": {},
   "outputs": [
    {
     "data": {
      "text/plain": [
       "<matplotlib.collections.PathCollection at 0x1dff2e5a280>"
      ]
     },
     "execution_count": 8,
     "metadata": {},
     "output_type": "execute_result"
    },
    {
     "data": {
      "image/png": "[encoded data removed]",
      "text/plain": [
       "<Figure size 640x480 with 1 Axes>"
      ]
     },
     "metadata": {},
     "output_type": "display_data"
    }
   ],
   "source": [
    "plt.scatter(x,y,color=\"red\")"
   ]
  },
  {
   "cell_type": "code",
   "execution_count": 10,
   "id": "afb7ddd9",
   "metadata": {},
   "outputs": [],
   "source": [
    "#Training:\n",
    "from sklearn.linear_model import LinearRegression "
   ]
  },
  {
   "cell_type": "code",
   "execution_count": 11,
   "id": "fc0a6071",
   "metadata": {},
   "outputs": [],
   "source": [
    "lr=LinearRegression()"
   ]
  },
  {
   "cell_type": "code",
   "execution_count": 12,
   "id": "a628ba68",
   "metadata": {},
   "outputs": [
    {
     "data": {
      "text/plain": [
       "LinearRegression()"
      ]
     },
     "execution_count": 12,
     "metadata": {},
     "output_type": "execute_result"
    }
   ],
   "source": [
    "lr"
   ]
  },
  {
   "cell_type": "code",
   "execution_count": 16,
   "id": "156bf740",
   "metadata": {},
   "outputs": [
    {
     "data": {
      "text/plain": [
       "LinearRegression()"
      ]
     },
     "execution_count": 16,
     "metadata": {},
     "output_type": "execute_result"
    }
   ],
   "source": [
    "lr.fit(x,y)"
   ]
  },
  {
   "cell_type": "code",
   "execution_count": 19,
   "id": "b2176289",
   "metadata": {},
   "outputs": [
    {
     "data": {
      "text/plain": [
       "95.47822477500306"
      ]
     },
     "execution_count": 19,
     "metadata": {},
     "output_type": "execute_result"
    }
   ],
   "source": [
    "#checking performance:\n",
    "lr.score(x,y)*100"
   ]
  },
  {
   "cell_type": "code",
   "execution_count": 20,
   "id": "0dba4c52",
   "metadata": {},
   "outputs": [
    {
     "data": {
      "text/plain": [
       "array([[66.10953254]])"
      ]
     },
     "execution_count": 20,
     "metadata": {},
     "output_type": "execute_result"
    }
   ],
   "source": [
    "ip=[[155]]\n",
    "lr.predict(ip)"
   ]
  },
  {
   "cell_type": "code",
   "execution_count": 24,
   "id": "0fd4ec79",
   "metadata": {},
   "outputs": [
    {
     "data": {
      "text/plain": [
       "array([[44.52199817],\n",
       "       [45.19660862],\n",
       "       [21.5852429 ]])"
      ]
     },
     "execution_count": 24,
     "metadata": {},
     "output_type": "execute_result"
    }
   ],
   "source": [
    "n=[[123],[124],[89]]\n",
    "lr.predict(n)"
   ]
  },
  {
   "cell_type": "code",
   "execution_count": null,
   "id": "326d0063",
   "metadata": {},
   "outputs": [],
   "source": [
    "lr.coef_"
   ]
  }
 ],
 "metadata": {
  "kernelspec": {
   "display_name": "Python 3 (ipykernel)",
   "language": "python",
   "name": "python3"
  },
  "language_info": {
   "codemirror_mode": {
    "name": "ipython",
    "version": 3
   },
   "file_extension": ".py",
   "mimetype": "text/x-python",
   "name": "python",
   "nbconvert_exporter": "python",
   "pygments_lexer": "ipython3",
   "version": "3.9.13"
  }
 },
 "nbformat": 4,
 "nbformat_minor": 5
}
