{
 "cells": [
  {
   "cell_type": "code",
   "execution_count": 3,
   "id": "d579b1f4",
   "metadata": {},
   "outputs": [],
   "source": [
    "ht=[[151],[174],[138],[186],[128],[136],[179],[163],[152],[131]]\n",
    "wt=[[63],[81],[56],[91],[47],[57],[76],[72],[62],[48]]"
   ]
  },
  {
   "cell_type": "code",
   "execution_count": 4,
   "id": "0599448f",
   "metadata": {},
   "outputs": [],
   "source": [
    "from sklearn.linear_model import LinearRegression"
   ]
  },
  {
   "cell_type": "code",
   "execution_count": 5,
   "id": "40fb91ca",
   "metadata": {},
   "outputs": [],
   "source": [
    "from sklearn.linear_model import LinearRegression"
   ]
  },
  {
   "cell_type": "code",
   "execution_count": 7,
   "id": "6bccd61b",
   "metadata": {},
   "outputs": [],
   "source": [
    "from sklearn.linear_model import LinearRegression"
   ]
  },
  {
   "cell_type": "code",
   "execution_count": 8,
   "id": "430d3fcc",
   "metadata": {},
   "outputs": [],
   "source": [
    "#Trainnig the model"
   ]
  },
  {
   "cell_type": "code",
   "execution_count": 9,
   "id": "7fb86819",
   "metadata": {},
   "outputs": [],
   "source": [
    "model=LinearRegression()"
   ]
  },
  {
   "cell_type": "code",
   "execution_count": 11,
   "id": "7decfd8c",
   "metadata": {},
   "outputs": [
    {
     "name": "stdout",
     "output_type": "stream",
     "text": [
      "LinearRegression()\n"
     ]
    }
   ],
   "source": [
    "print(model)"
   ]
  },
  {
   "cell_type": "code",
   "execution_count": 12,
   "id": "e5f12b9f",
   "metadata": {},
   "outputs": [
    {
     "data": {
      "text/plain": [
       "LinearRegression()"
      ]
     },
     "execution_count": 12,
     "metadata": {},
     "output_type": "execute_result"
    }
   ],
   "source": [
    "model.fit(ht,wt)"
   ]
  },
  {
   "cell_type": "markdown",
   "id": "5bb4bdd9",
   "metadata": {},
   "source": [
    "#checking the performance \n",
    "model.score(ht,wt)*100"
   ]
  },
  {
   "cell_type": "code",
   "execution_count": 14,
   "id": "3c3be011",
   "metadata": {},
   "outputs": [
    {
     "data": {
      "text/plain": [
       "[[151], [174], [138], [186], [128], [136], [179], [163], [152], [131]]"
      ]
     },
     "metadata": {},
     "output_type": "display_data"
    },
    {
     "data": {
      "text/plain": [
       "[[63], [81], [56], [91], [47], [57], [76], [72], [62], [48]]"
      ]
     },
     "metadata": {},
     "output_type": "display_data"
    }
   ],
   "source": [
    "display(ht,wt)"
   ]
  },
  {
   "cell_type": "code",
   "execution_count": 15,
   "id": "9c5d2be4",
   "metadata": {},
   "outputs": [],
   "source": [
    "import matplotlib.pyplot as plt"
   ]
  },
  {
   "cell_type": "code",
   "execution_count": 17,
   "id": "d8d8ef58",
   "metadata": {},
   "outputs": [
    {
     "data": {
      "text/plain": [
       "<matplotlib.collections.PathCollection at 0x2aeaf63fbb0>"
      ]
     },
     "execution_count": 17,
     "metadata": {},
     "output_type": "execute_result"
    },
    {
     "data": {
      "image/png": "[encoded data removed]",
      "text/plain": [
       "<Figure size 640x480 with 1 Axes>"
      ]
     },
     "metadata": {},
     "output_type": "display_data"
    }
   ],
   "source": [
    "plt.scatter(ht,wt)"
   ]
  },
  {
   "cell_type": "markdown",
   "id": "b8ed88f6",
   "metadata": {},
   "source": [
    "# testing"
   ]
  },
  {
   "cell_type": "code",
   "execution_count": null,
   "id": "3d2339b7",
   "metadata": {},
   "outputs": [],
   "source": []
  },
  {
   "cell_type": "code",
   "execution_count": 20,
   "id": "2f6d09ae",
   "metadata": {},
   "outputs": [
    {
     "data": {
      "text/plain": [
       "[[151], [174], [138], [186], [128], [136], [179], [163], [152], [131]]"
      ]
     },
     "metadata": {},
     "output_type": "display_data"
    },
    {
     "data": {
      "text/plain": [
       "[[63], [81], [56], [91], [47], [57], [76], [72], [62], [48]]"
      ]
     },
     "metadata": {},
     "output_type": "display_data"
    }
   ],
   "source": [
    "display(ht,wt)"
   ]
  },
  {
   "cell_type": "code",
   "execution_count": 25,
   "id": "38b7ae39",
   "metadata": {},
   "outputs": [
    {
     "data": {
      "text/plain": [
       "array([[63.41109074]])"
      ]
     },
     "execution_count": 25,
     "metadata": {},
     "output_type": "execute_result"
    }
   ],
   "source": [
    "model.predict([[151]])"
   ]
  },
  {
   "cell_type": "code",
   "execution_count": 23,
   "id": "084a2f90",
   "metadata": {},
   "outputs": [],
   "source": [
    "#error=actual+predict"
   ]
  },
  {
   "cell_type": "code",
   "execution_count": 26,
   "id": "9aa70a51",
   "metadata": {},
   "outputs": [
    {
     "data": {
      "text/plain": [
       "array([[47.89505041]])"
      ]
     },
     "execution_count": 26,
     "metadata": {},
     "output_type": "execute_result"
    }
   ],
   "source": [
    "model.predict([[128]])"
   ]
  },
  {
   "cell_type": "code",
   "execution_count": 27,
   "id": "8e3f3e02",
   "metadata": {},
   "outputs": [
    {
     "data": {
      "text/plain": [
       "9.11"
      ]
     },
     "execution_count": 27,
     "metadata": {},
     "output_type": "execute_result"
    }
   ],
   "source": [
    "57-47.89"
   ]
  },
  {
   "cell_type": "code",
   "execution_count": 29,
   "id": "c16074b3",
   "metadata": {},
   "outputs": [
    {
     "data": {
      "text/plain": [
       "array([[78.92713107],\n",
       "       [49.91888176],\n",
       "       [44.52199817]])"
      ]
     },
     "execution_count": 29,
     "metadata": {},
     "output_type": "execute_result"
    }
   ],
   "source": [
    "model.predict([[174],[131],[123]])"
   ]
  },
  {
   "cell_type": "code",
   "execution_count": 32,
   "id": "d6cb8663",
   "metadata": {},
   "outputs": [
    {
     "name": "stdout",
     "output_type": "stream",
     "text": [
      "enter ur height121\n",
      "height is 121 for weight is  43\n"
     ]
    },
    {
     "name": "stderr",
     "output_type": "stream",
     "text": [
      "C:\\ProgramData\\Anaconda3\\lib\\site-packages\\sklearn\\base.py:566: FutureWarning: Arrays of bytes/strings is being converted to decimal numbers if dtype='numeric'. This behavior is deprecated in 0.24 and will be removed in 1.1 (renaming of 0.26). Please convert your data to numeric values explicitly instead.\n",
      "  X = check_array(X, **check_params)\n"
     ]
    }
   ],
   "source": [
    "h=input(\"enter ur height\")\n",
    "o=round(float(model.predict([[h]])))\n",
    "print(\"height is\",h,\"for weight is \",o)\n"
   ]
  },
  {
   "cell_type": "code",
   "execution_count": null,
   "id": "57fecf8b",
   "metadata": {},
   "outputs": [],
   "source": []
  }
 ],
 "metadata": {
  "kernelspec": {
   "display_name": "Python 3 (ipykernel)",
   "language": "python",
   "name": "python3"
  },
  "language_info": {
   "codemirror_mode": {
    "name": "ipython",
    "version": 3
   },
   "file_extension": ".py",
   "mimetype": "text/x-python",
   "name": "python",
   "nbconvert_exporter": "python",
   "pygments_lexer": "ipython3",
   "version": "3.9.13"
  }
 },
 "nbformat": 4,
 "nbformat_minor": 5
}
